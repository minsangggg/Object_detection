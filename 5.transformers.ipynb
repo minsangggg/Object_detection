{
 "cells": [
  {
   "cell_type": "code",
   "execution_count": 1,
   "id": "74980fc8",
   "metadata": {},
   "outputs": [
    {
     "name": "stdout",
     "output_type": "stream",
     "text": [
      "torch: 2.6.0+cu124 cuda: 12.4 is_available: True\n"
     ]
    }
   ],
   "source": [
    "import torch\n",
    "print(\"torch:\", torch.__version__, \n",
    "      \"cuda:\", torch.version.cuda, \n",
    "      \"is_available:\", \n",
    "      torch.cuda.is_available())"
   ]
  },
  {
   "cell_type": "code",
   "execution_count": 2,
   "id": "0c4cf2f0",
   "metadata": {},
   "outputs": [
    {
     "name": "stderr",
     "output_type": "stream",
     "text": [
      "c:\\Users\\Admin\\miniconda3\\envs\\torch_cuda_transformer_env\\lib\\site-packages\\tqdm\\auto.py:21: TqdmWarning: IProgress not found. Please update jupyter and ipywidgets. See https://ipywidgets.readthedocs.io/en/stable/user_install.html\n",
      "  from .autonotebook import tqdm as notebook_tqdm\n"
     ]
    },
    {
     "data": {
      "text/plain": [
       "'4.56.0'"
      ]
     },
     "execution_count": 2,
     "metadata": {},
     "output_type": "execute_result"
    }
   ],
   "source": [
    "import transformers\n",
    "transformers.__version__"
   ]
  },
  {
   "cell_type": "code",
   "execution_count": 3,
   "id": "57afb265",
   "metadata": {},
   "outputs": [],
   "source": [
    "# 예시 영화 평\n",
    "reviews = [\n",
    "    \"This movie was absolutely fantastic! The acting, the plot, everything was perfect.\",\n",
    "    \"I did not enjoy this movie at all. The story was predictable and the acting was terrible.\",\n",
    "    \"A solid performance by the lead actor, but the plot could have been better.\",\n",
    "    \"What a waste of time! I can't believe I sat through the whole movie.\"\n",
    "]"
   ]
  },
  {
   "cell_type": "code",
   "execution_count": 5,
   "id": "a2db31c5",
   "metadata": {},
   "outputs": [
    {
     "name": "stderr",
     "output_type": "stream",
     "text": [
      "c:\\Users\\Admin\\miniconda3\\envs\\torch_cuda_transformer_env\\lib\\site-packages\\huggingface_hub\\file_download.py:143: UserWarning: `huggingface_hub` cache-system uses symlinks by default to efficiently store duplicated files but your machine does not support them in C:\\Users\\Admin\\.cache\\huggingface\\hub\\models--distilbert-base-uncased-finetuned-sst-2-english. Caching files will still work but in a degraded version that might require more space on your disk. This warning can be disabled by setting the `HF_HUB_DISABLE_SYMLINKS_WARNING` environment variable. For more details, see https://huggingface.co/docs/huggingface_hub/how-to-cache#limitations.\n",
      "To support symlinks on Windows, you either need to activate Developer Mode or to run Python as an administrator. In order to activate developer mode, see this article: https://docs.microsoft.com/en-us/windows/apps/get-started/enable-your-device-for-development\n",
      "  warnings.warn(message)\n",
      "Xet Storage is enabled for this repo, but the 'hf_xet' package is not installed. Falling back to regular HTTP download. For better performance, install the package with: `pip install huggingface_hub[hf_xet]` or `pip install hf_xet`\n",
      "Device set to use cuda:0\n"
     ]
    },
    {
     "data": {
      "text/plain": [
       "<transformers.pipelines.text_classification.TextClassificationPipeline at 0x26e0b445d80>"
      ]
     },
     "execution_count": 5,
     "metadata": {},
     "output_type": "execute_result"
    }
   ],
   "source": [
    "#감성분석\n",
    "from transformers import pipeline\n",
    "senti_anal = pipeline(\"sentiment-analysis\", model=\"distilbert-base-uncased-finetuned-sst-2-english\")\n",
    "senti_anal"
   ]
  },
  {
   "cell_type": "code",
   "execution_count": 10,
   "id": "1e0c2073",
   "metadata": {},
   "outputs": [
    {
     "data": {
      "text/plain": [
       "[{'label': 'POSITIVE', 'score': 0.9998705387115479},\n",
       " {'label': 'NEGATIVE', 'score': 0.9996206760406494},\n",
       " {'label': 'POSITIVE', 'score': 0.6785107254981995},\n",
       " {'label': 'NEGATIVE', 'score': 0.999803364276886}]"
      ]
     },
     "execution_count": 10,
     "metadata": {},
     "output_type": "execute_result"
    }
   ],
   "source": [
    "results= senti_anal(reviews)\n",
    "results"
   ]
  },
  {
   "cell_type": "code",
   "execution_count": 11,
   "id": "0b39c267",
   "metadata": {},
   "outputs": [
    {
     "name": "stdout",
     "output_type": "stream",
     "text": [
      "review: This movie was absolutely fantastic! The acting, the plot, everything was perfect. \n",
      " Sentiment: POSITIVE, score: 1.00\n",
      "\n",
      "review: I did not enjoy this movie at all. The story was predictable and the acting was terrible. \n",
      " Sentiment: NEGATIVE, score: 1.00\n",
      "\n",
      "review: A solid performance by the lead actor, but the plot could have been better. \n",
      " Sentiment: POSITIVE, score: 0.68\n",
      "\n",
      "review: What a waste of time! I can't believe I sat through the whole movie. \n",
      " Sentiment: NEGATIVE, score: 1.00\n",
      "\n"
     ]
    }
   ],
   "source": [
    "for review, result in zip(reviews, results):\n",
    "    print(f\"review: {review} \\n Sentiment: {result['label']}, score: {result['score']:.2f}\\n\")"
   ]
  },
  {
   "cell_type": "code",
   "execution_count": null,
   "id": "dd6e0ef7",
   "metadata": {},
   "outputs": [],
   "source": []
  }
 ],
 "metadata": {
  "kernelspec": {
   "display_name": "torch_cuda_transformer_env",
   "language": "python",
   "name": "python3"
  },
  "language_info": {
   "codemirror_mode": {
    "name": "ipython",
    "version": 3
   },
   "file_extension": ".py",
   "mimetype": "text/x-python",
   "name": "python",
   "nbconvert_exporter": "python",
   "pygments_lexer": "ipython3",
   "version": "3.10.18"
  }
 },
 "nbformat": 4,
 "nbformat_minor": 5
}
