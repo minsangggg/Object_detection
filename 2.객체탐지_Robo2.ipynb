{
 "cells": [
  {
   "cell_type": "markdown",
   "id": "e8dae610",
   "metadata": {},
   "source": [
    "## 객체감지"
   ]
  },
  {
   "cell_type": "code",
   "execution_count": 3,
   "id": "a82b11b5",
   "metadata": {},
   "outputs": [],
   "source": [
    "import warnings\n",
    "warnings.filterwarnings(\"ignore\")"
   ]
  },
  {
   "cell_type": "code",
   "execution_count": 4,
   "id": "6902842d",
   "metadata": {},
   "outputs": [
    {
     "name": "stdout",
     "output_type": "stream",
     "text": [
      "\n",
      "image 1/1 c:\\githome\\Object_detection\\sample.png: 448x640 3 persons, 2 ties, 20.1ms\n",
      "Speed: 2.6ms preprocess, 20.1ms inference, 5.8ms postprocess per image at shape (1, 3, 448, 640)\n"
     ]
    },
    {
     "data": {
      "text/plain": [
       "[ultralytics.engine.results.Results object with attributes:\n",
       " \n",
       " boxes: ultralytics.engine.results.Boxes object\n",
       " keypoints: None\n",
       " masks: None\n",
       " names: {0: 'person', 1: 'bicycle', 2: 'car', 3: 'motorcycle', 4: 'airplane', 5: 'bus', 6: 'train', 7: 'truck', 8: 'boat', 9: 'traffic light', 10: 'fire hydrant', 11: 'stop sign', 12: 'parking meter', 13: 'bench', 14: 'bird', 15: 'cat', 16: 'dog', 17: 'horse', 18: 'sheep', 19: 'cow', 20: 'elephant', 21: 'bear', 22: 'zebra', 23: 'giraffe', 24: 'backpack', 25: 'umbrella', 26: 'handbag', 27: 'tie', 28: 'suitcase', 29: 'frisbee', 30: 'skis', 31: 'snowboard', 32: 'sports ball', 33: 'kite', 34: 'baseball bat', 35: 'baseball glove', 36: 'skateboard', 37: 'surfboard', 38: 'tennis racket', 39: 'bottle', 40: 'wine glass', 41: 'cup', 42: 'fork', 43: 'knife', 44: 'spoon', 45: 'bowl', 46: 'banana', 47: 'apple', 48: 'sandwich', 49: 'orange', 50: 'broccoli', 51: 'carrot', 52: 'hot dog', 53: 'pizza', 54: 'donut', 55: 'cake', 56: 'chair', 57: 'couch', 58: 'potted plant', 59: 'bed', 60: 'dining table', 61: 'toilet', 62: 'tv', 63: 'laptop', 64: 'mouse', 65: 'remote', 66: 'keyboard', 67: 'cell phone', 68: 'microwave', 69: 'oven', 70: 'toaster', 71: 'sink', 72: 'refrigerator', 73: 'book', 74: 'clock', 75: 'vase', 76: 'scissors', 77: 'teddy bear', 78: 'hair drier', 79: 'toothbrush'}\n",
       " obb: None\n",
       " orig_img: array([[[255, 255, 255],\n",
       "         [255, 255, 255],\n",
       "         [255, 255, 255],\n",
       "         ...,\n",
       "         [255, 255, 255],\n",
       "         [255, 255, 255],\n",
       "         [255, 255, 255]],\n",
       " \n",
       "        [[255, 255, 255],\n",
       "         [255, 255, 255],\n",
       "         [255, 255, 255],\n",
       "         ...,\n",
       "         [255, 255, 255],\n",
       "         [255, 255, 255],\n",
       "         [255, 255, 255]],\n",
       " \n",
       "        [[255, 255, 255],\n",
       "         [255, 255, 255],\n",
       "         [255, 255, 255],\n",
       "         ...,\n",
       "         [255, 255, 255],\n",
       "         [255, 255, 255],\n",
       "         [255, 255, 255]],\n",
       " \n",
       "        ...,\n",
       " \n",
       "        [[251, 254, 255],\n",
       "         [250, 251, 255],\n",
       "         [255, 254, 255],\n",
       "         ...,\n",
       "         [255, 255, 255],\n",
       "         [255, 255, 255],\n",
       "         [255, 255, 255]],\n",
       " \n",
       "        [[251, 254, 255],\n",
       "         [251, 252, 255],\n",
       "         [255, 254, 255],\n",
       "         ...,\n",
       "         [255, 255, 255],\n",
       "         [255, 255, 255],\n",
       "         [255, 255, 255]],\n",
       " \n",
       "        [[251, 254, 255],\n",
       "         [252, 253, 255],\n",
       "         [255, 254, 255],\n",
       "         ...,\n",
       "         [255, 255, 255],\n",
       "         [255, 255, 255],\n",
       "         [255, 255, 255]]], dtype=uint8)\n",
       " orig_shape: (183, 275)\n",
       " path: 'c:\\\\githome\\\\Object_detection\\\\sample.png'\n",
       " probs: None\n",
       " save_dir: 'runs\\\\detect\\\\predict'\n",
       " speed: {'preprocess': 2.6378000038675964, 'inference': 20.129999989876524, 'postprocess': 5.799499980639666}]"
      ]
     },
     "execution_count": 4,
     "metadata": {},
     "output_type": "execute_result"
    }
   ],
   "source": [
    "from ultralytics import YOLO\n",
    "\n",
    "model=YOLO('yolov8n.pt')\n",
    "result=model('sample.png')\n",
    "result\n"
   ]
  },
  {
   "cell_type": "code",
   "execution_count": null,
   "id": "df3691c6",
   "metadata": {},
   "outputs": [
    {
     "name": "stdout",
     "output_type": "stream",
     "text": [
      "\n",
      "image 1/1 c:\\githome\\Object_detection\\dog.png: 640x640 1 dog, 1 bed, 26.5ms\n",
      "Speed: 5.9ms preprocess, 26.5ms inference, 5.4ms postprocess per image at shape (1, 3, 640, 640)\n"
     ]
    },
    {
     "data": {
      "text/plain": [
       "ultralytics.engine.results.Boxes object with attributes:\n",
       "\n",
       "cls: tensor([16., 59.], device='cuda:0')\n",
       "conf: tensor([0.7948, 0.2682], device='cuda:0')\n",
       "data: tensor([[7.5722e-01, 6.9346e+01, 3.2087e+02, 2.8698e+02, 7.9485e-01, 1.6000e+01],\n",
       "        [2.0063e+00, 8.5951e+01, 3.4000e+02, 3.3940e+02, 2.6824e-01, 5.9000e+01]], device='cuda:0')\n",
       "id: None\n",
       "is_track: False\n",
       "orig_shape: (340, 340)\n",
       "shape: torch.Size([2, 6])\n",
       "xywh: tensor([[160.8134, 178.1610, 320.1123, 217.6299],\n",
       "        [171.0032, 212.6732, 337.9937, 253.4448]], device='cuda:0')\n",
       "xywhn: tensor([[0.4730, 0.5240, 0.9415, 0.6401],\n",
       "        [0.5030, 0.6255, 0.9941, 0.7454]], device='cuda:0')\n",
       "xyxy: tensor([[  0.7572,  69.3461, 320.8696, 286.9760],\n",
       "        [  2.0063,  85.9508, 340.0000, 339.3956]], device='cuda:0')\n",
       "xyxyn: tensor([[0.0022, 0.2040, 0.9437, 0.8440],\n",
       "        [0.0059, 0.2528, 1.0000, 0.9982]], device='cuda:0')"
      ]
     },
     "execution_count": 6,
     "metadata": {},
     "output_type": "execute_result"
    }
   ],
   "source": [
    "# 바운딩박스, 라벨 출력\n",
    "result=model('dog.png')\n",
    "result[0].boxes\n",
    "\n",
    "#result[0].boxes.xyxy   # [x1, y1, x2, y2] 좌표 (좌상단, 우하단)\n",
    "#result[0].boxes.xywh   # [x_center, y_center, width, height]\n",
    "#result[0].boxes.conf   # 각 박스의 confidence 점수\n",
    "#result[0].boxes.cls    # 각 박스의 클래스 ID (정수)"
   ]
  },
  {
   "cell_type": "code",
   "execution_count": 9,
   "id": "a5371bf0",
   "metadata": {},
   "outputs": [],
   "source": [
    "import cv2\n",
    "img = cv2.imread('dog.png')\n",
    "\n",
    "for box in result[0].boxes:\n",
    "  class_id=box.cls[0]\n",
    "  class_name=model.names[class_id.item()]\n",
    "  \n",
    "  #신뢰도 점수\n",
    "  conf=float(box.conf[0])\n",
    "  \n",
    "  #바운딩 박스\n",
    "  coords=box.xyxy[0].tolist()\n",
    "  x1,y1,x2,y2=map(int, coords)\n",
    "  cv2.rectangle(img, (x1,y1), (x2,y2), (0,255,0), 2) \n",
    "  cv2.putText(img, f'{class_name} {conf:.4f}', (x1,y1-10), cv2.FONT_HERSHEY_PLAIN, 1, (0,0,255))\n",
    "  \n",
    "  #end-for\n",
    "  cv2.imshow('yolov8 object detection',img)\n",
    "  cv2.waitKey(0)\n",
    "  cv2.destroyAllWindows()\n",
    "  cv2.imwrite('detect_result.png',img)"
   ]
  },
  {
   "cell_type": "markdown",
   "id": "8d6355e8",
   "metadata": {},
   "source": [
    "## Segmentation"
   ]
  },
  {
   "cell_type": "code",
   "execution_count": 10,
   "id": "998e26b3",
   "metadata": {},
   "outputs": [
    {
     "name": "stdout",
     "output_type": "stream",
     "text": [
      "\u001b[KDownloading https://github.com/ultralytics/assets/releases/download/v8.3.0/yolov8n-seg.pt to 'yolov8n-seg.pt': 100% ━━━━━━━━━━━━ 6.7/6.7MB 8.5MB/s 0.8s<0.1ss\n",
      "\n",
      "image 1/1 c:\\githome\\Object_detection\\dog.png: 640x640 1 dog, 32.3ms\n",
      "Speed: 4.2ms preprocess, 32.3ms inference, 19.2ms postprocess per image at shape (1, 3, 640, 640)\n"
     ]
    },
    {
     "data": {
      "text/plain": [
       "[ultralytics.engine.results.Results object with attributes:\n",
       " \n",
       " boxes: ultralytics.engine.results.Boxes object\n",
       " keypoints: None\n",
       " masks: ultralytics.engine.results.Masks object\n",
       " names: {0: 'person', 1: 'bicycle', 2: 'car', 3: 'motorcycle', 4: 'airplane', 5: 'bus', 6: 'train', 7: 'truck', 8: 'boat', 9: 'traffic light', 10: 'fire hydrant', 11: 'stop sign', 12: 'parking meter', 13: 'bench', 14: 'bird', 15: 'cat', 16: 'dog', 17: 'horse', 18: 'sheep', 19: 'cow', 20: 'elephant', 21: 'bear', 22: 'zebra', 23: 'giraffe', 24: 'backpack', 25: 'umbrella', 26: 'handbag', 27: 'tie', 28: 'suitcase', 29: 'frisbee', 30: 'skis', 31: 'snowboard', 32: 'sports ball', 33: 'kite', 34: 'baseball bat', 35: 'baseball glove', 36: 'skateboard', 37: 'surfboard', 38: 'tennis racket', 39: 'bottle', 40: 'wine glass', 41: 'cup', 42: 'fork', 43: 'knife', 44: 'spoon', 45: 'bowl', 46: 'banana', 47: 'apple', 48: 'sandwich', 49: 'orange', 50: 'broccoli', 51: 'carrot', 52: 'hot dog', 53: 'pizza', 54: 'donut', 55: 'cake', 56: 'chair', 57: 'couch', 58: 'potted plant', 59: 'bed', 60: 'dining table', 61: 'toilet', 62: 'tv', 63: 'laptop', 64: 'mouse', 65: 'remote', 66: 'keyboard', 67: 'cell phone', 68: 'microwave', 69: 'oven', 70: 'toaster', 71: 'sink', 72: 'refrigerator', 73: 'book', 74: 'clock', 75: 'vase', 76: 'scissors', 77: 'teddy bear', 78: 'hair drier', 79: 'toothbrush'}\n",
       " obb: None\n",
       " orig_img: array([[[193, 209, 221],\n",
       "         [193, 209, 221],\n",
       "         [192, 210, 221],\n",
       "         ...,\n",
       "         [251, 246, 243],\n",
       "         [249, 244, 241],\n",
       "         [248, 243, 240]],\n",
       " \n",
       "        [[193, 209, 221],\n",
       "         [193, 209, 221],\n",
       "         [192, 210, 221],\n",
       "         ...,\n",
       "         [251, 246, 243],\n",
       "         [249, 244, 241],\n",
       "         [248, 243, 240]],\n",
       " \n",
       "        [[193, 209, 221],\n",
       "         [193, 209, 221],\n",
       "         [192, 210, 221],\n",
       "         ...,\n",
       "         [251, 246, 243],\n",
       "         [249, 244, 241],\n",
       "         [248, 243, 240]],\n",
       " \n",
       "        ...,\n",
       " \n",
       "        [[215, 224, 228],\n",
       "         [215, 224, 228],\n",
       "         [215, 224, 228],\n",
       "         ...,\n",
       "         [219, 225, 230],\n",
       "         [219, 225, 230],\n",
       "         [219, 225, 230]],\n",
       " \n",
       "        [[215, 224, 228],\n",
       "         [215, 224, 228],\n",
       "         [215, 224, 228],\n",
       "         ...,\n",
       "         [219, 225, 230],\n",
       "         [219, 225, 230],\n",
       "         [219, 225, 230]],\n",
       " \n",
       "        [[215, 224, 228],\n",
       "         [215, 224, 228],\n",
       "         [215, 224, 228],\n",
       "         ...,\n",
       "         [219, 225, 230],\n",
       "         [219, 225, 230],\n",
       "         [219, 225, 230]]], dtype=uint8)\n",
       " orig_shape: (340, 340)\n",
       " path: 'c:\\\\githome\\\\Object_detection\\\\dog.png'\n",
       " probs: None\n",
       " save_dir: 'runs\\\\segment\\\\predict'\n",
       " speed: {'preprocess': 4.216300003463402, 'inference': 32.30799999437295, 'postprocess': 19.181699986802414}]"
      ]
     },
     "execution_count": 10,
     "metadata": {},
     "output_type": "execute_result"
    }
   ],
   "source": [
    "from ultralytics import YOLO\n",
    "\n",
    "model=YOLO('yolov8n-seg.pt')\n",
    "result=model('dog.png')\n",
    "result"
   ]
  },
  {
   "cell_type": "code",
   "execution_count": 12,
   "id": "1a60ce0d",
   "metadata": {},
   "outputs": [],
   "source": [
    "result[0].show()"
   ]
  },
  {
   "cell_type": "code",
   "execution_count": 28,
   "id": "f03b009e",
   "metadata": {},
   "outputs": [
    {
     "data": {
      "text/plain": [
       "True"
      ]
     },
     "execution_count": 28,
     "metadata": {},
     "output_type": "execute_result"
    }
   ],
   "source": [
    "import numpy as np\n",
    "\n",
    "img_new=cv2.imread('bus.png')\n",
    "overlay=img_new.copy() #마스크용\n",
    "\n",
    "for box,mask in zip(result[0].boxes, result[0].masks):\n",
    "  polygon=mask.xy[0].astype(np.int32)\n",
    "  cv2.fillPoly(overlay, [polygon],(0,255,0)) #다각형 그리기\n",
    "  \n",
    "  class_id=box.cls[0]\n",
    "  class_name=model.names[class_id.item()]\n",
    "  \n",
    "  #신뢰도 점수\n",
    "  conf=float(box.conf[0])\n",
    "  \n",
    "  #바운딩 박스\n",
    "  coords=box.xyxy[0].tolist()\n",
    "  x1,y1,x2,y2=map(int, coords)\n",
    "  cv2.rectangle(img_new, (x1,y1), (x2,y2), (0,255,0), 2) \n",
    "  cv2.putText(img_new, f'{class_name} {conf:.4f}', (x1,y1-10), cv2.FONT_HERSHEY_PLAIN, 1, (0,255,0),1)\n",
    "  \n",
    "  #img+overlay 겹쳐서 출력\n",
    "  alpha=0.5\n",
    "  final_img=cv2.addWeighted(overlay,alpha,img_new, 1-alpha,0)\n",
    "  \n",
    "  \n",
    "  #end-for\n",
    "cv2.imshow('yolo8 object segmentation',final_img)\n",
    "cv2.waitKey(0)\n",
    "cv2.destroyAllWindows()\n",
    "cv2.imwrite('detect_result.png',final_img)"
   ]
  },
  {
   "cell_type": "markdown",
   "id": "1b1454db",
   "metadata": {},
   "source": [
    "## 신체분류"
   ]
  },
  {
   "cell_type": "code",
   "execution_count": 36,
   "id": "751dde93",
   "metadata": {},
   "outputs": [
    {
     "name": "stdout",
     "output_type": "stream",
     "text": [
      "\n",
      "image 1/1 c:\\githome\\Object_detection\\people2.png: 448x640 4 persons, 21.9ms\n",
      "Speed: 2.5ms preprocess, 21.9ms inference, 6.8ms postprocess per image at shape (1, 3, 448, 640)\n"
     ]
    },
    {
     "data": {
      "text/plain": [
       "True"
      ]
     },
     "execution_count": 36,
     "metadata": {},
     "output_type": "execute_result"
    }
   ],
   "source": [
    "pose_model=YOLO('yolov8n-pose.pt')\n",
    "pose_result=pose_model('people2.png')\n",
    "img=cv2.imread('people2.png')\n",
    "\n",
    "kp=pose_result[0].keypoints\n",
    "\n",
    "for man_kp in kp:\n",
    "    for x,y in man_kp.xy[0]:\n",
    "        if x>0 and y>0:\n",
    "            cv2.circle(img, (int(x), int(y)), 3, (255,0,0),-1 )\n",
    "    \n",
    "cv2.namedWindow('yolov8 pose estimation', cv2.WINDOW_NORMAL)  # 창 크기 조절 가능\n",
    "cv2.imshow('yolov8 pose estimation',img)\n",
    "cv2.waitKey(0)\n",
    "cv2.destroyAllWindows()\n",
    "cv2.imwrite('pose_result.png', img)    "
   ]
  }
 ],
 "metadata": {
  "kernelspec": {
   "display_name": "torch_cuda_yolo_env",
   "language": "python",
   "name": "python3"
  },
  "language_info": {
   "codemirror_mode": {
    "name": "ipython",
    "version": 3
   },
   "file_extension": ".py",
   "mimetype": "text/x-python",
   "name": "python",
   "nbconvert_exporter": "python",
   "pygments_lexer": "ipython3",
   "version": "3.10.18"
  }
 },
 "nbformat": 4,
 "nbformat_minor": 5
}
