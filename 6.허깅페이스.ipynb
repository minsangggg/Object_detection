{
 "cells": [
  {
   "cell_type": "code",
   "execution_count": 5,
   "id": "05ec9bf4",
   "metadata": {},
   "outputs": [],
   "source": [
    "import warnings\n",
    "warnings.filterwarnings(action='ignore')"
   ]
  },
  {
   "cell_type": "code",
   "execution_count": 6,
   "id": "6830bb44",
   "metadata": {},
   "outputs": [
    {
     "name": "stdout",
     "output_type": "stream",
     "text": [
      "torch: 2.6.0+cu124 cuda: 12.4 is_available: True\n"
     ]
    }
   ],
   "source": [
    "import torch\n",
    "print(\"torch:\", torch.__version__, \n",
    "      \"cuda:\", torch.version.cuda, \n",
    "      \"is_available:\", \n",
    "      torch.cuda.is_available())"
   ]
  },
  {
   "cell_type": "code",
   "execution_count": 10,
   "id": "0921dd9e",
   "metadata": {},
   "outputs": [
    {
     "data": {
      "text/plain": [
       "True"
      ]
     },
     "execution_count": 10,
     "metadata": {},
     "output_type": "execute_result"
    }
   ],
   "source": [
    "import os \n",
    "import requests\n",
    "from dotenv import load_dotenv\n",
    "\n",
    "# .env 파일 로드\n",
    "load_dotenv()"
   ]
  },
  {
   "cell_type": "markdown",
   "id": "e5617ca9",
   "metadata": {},
   "source": [
    "## Inference API"
   ]
  },
  {
   "cell_type": "code",
   "execution_count": null,
   "id": "b08d67df",
   "metadata": {},
   "outputs": [],
   "source": [
    "import os\n",
    "from huggingface_hub import InferenceClient\n",
    "\n",
    "client = InferenceClient(\n",
    "    provider=\"hf-inference\",\n",
    "    api_key=os.environ[\"HF_TOKEN\"],\n",
    ")\n",
    "\n",
    "result = client.translation(\n",
    "    \"Меня зовут Вольфганг и я живу в Берлине\",\n",
    "    model=\"Helsinki-NLP/opus-mt-ko-en\",\n",
    ")"
   ]
  },
  {
   "cell_type": "markdown",
   "id": "8c6670a4",
   "metadata": {},
   "source": [
    "## pipeline()\n",
    "task: 텍스트 기반 감성분석, 분류(제로샷), 생성"
   ]
  },
  {
   "cell_type": "code",
   "execution_count": 14,
   "id": "94aa0f13",
   "metadata": {},
   "outputs": [
    {
     "name": "stderr",
     "output_type": "stream",
     "text": [
      "No model was supplied, defaulted to distilbert/distilbert-base-uncased-finetuned-sst-2-english and revision 714eb0f (https://huggingface.co/distilbert/distilbert-base-uncased-finetuned-sst-2-english).\n",
      "Using a pipeline without specifying a model name and revision in production is not recommended.\n",
      "Xet Storage is enabled for this repo, but the 'hf_xet' package is not installed. Falling back to regular HTTP download. For better performance, install the package with: `pip install huggingface_hub[hf_xet]` or `pip install hf_xet`\n",
      "Device set to use cuda:0\n"
     ]
    },
    {
     "data": {
      "text/plain": [
       "[{'label': 'NEGATIVE', 'score': 0.9935249090194702}]"
      ]
     },
     "execution_count": 14,
     "metadata": {},
     "output_type": "execute_result"
    }
   ],
   "source": [
    "from transformers import pipeline\n",
    "classifier = pipeline(\"text-classification\") #task지정\n",
    "classifier(\"I want to learn using the refrigerator\")"
   ]
  },
  {
   "cell_type": "markdown",
   "id": "28e15b78",
   "metadata": {},
   "source": [
    "## fine tuning"
   ]
  },
  {
   "cell_type": "code",
   "execution_count": 16,
   "id": "68b91e9c",
   "metadata": {},
   "outputs": [
    {
     "name": "stderr",
     "output_type": "stream",
     "text": [
      "Xet Storage is enabled for this repo, but the 'hf_xet' package is not installed. Falling back to regular HTTP download. For better performance, install the package with: `pip install huggingface_hub[hf_xet]` or `pip install hf_xet`\n",
      "Device set to use cuda:0\n"
     ]
    },
    {
     "data": {
      "text/plain": [
       "[{'label': 'Negative', 'score': 0.3945055902004242}]"
      ]
     },
     "execution_count": 16,
     "metadata": {},
     "output_type": "execute_result"
    }
   ],
   "source": [
    "from transformers import pipeline\n",
    "classifier = pipeline(\"sentiment-analysis\", \"tabularisai/multilingual-sentiment-analysis\") #task지정\n",
    "classifier(\"냉장고를 이용하여 공부하는 것은 즐겁다\")"
   ]
  },
  {
   "cell_type": "code",
   "execution_count": null,
   "id": "2ea44d29",
   "metadata": {},
   "outputs": [
    {
     "name": "stderr",
     "output_type": "stream",
     "text": [
      "Device set to use cuda:0\n"
     ]
    },
    {
     "data": {
      "text/plain": [
       "[{'label': 'Negative', 'score': 0.5140126347541809}]"
      ]
     },
     "execution_count": 19,
     "metadata": {},
     "output_type": "execute_result"
    }
   ],
   "source": [
    "from transformers import pipeline\n",
    "classifier = pipeline(\"fill-mask\", \"bert-base-multilingual-cased\") #task지정\n",
    "classifier(\"People often believe that happiness comes from getting what they want. However, studies show that true happiness is not about having everything, but about being able to [ ]  what you already have.\")"
   ]
  },
  {
   "cell_type": "markdown",
   "id": "1415a74f",
   "metadata": {},
   "source": [
    "## question-answering"
   ]
  },
  {
   "cell_type": "code",
   "execution_count": null,
   "id": "58ddfc82",
   "metadata": {},
   "outputs": [],
   "source": [
    "# 개체명 인식"
   ]
  },
  {
   "cell_type": "code",
   "execution_count": null,
   "id": "3bd53160",
   "metadata": {},
   "outputs": [],
   "source": [
    "# summarization 문장요약"
   ]
  },
  {
   "cell_type": "code",
   "execution_count": null,
   "id": "72670013",
   "metadata": {},
   "outputs": [],
   "source": [
    "# 한글->영어 번역"
   ]
  },
  {
   "cell_type": "code",
   "execution_count": null,
   "id": "79393581",
   "metadata": {},
   "outputs": [],
   "source": [
    "# image to text"
   ]
  }
 ],
 "metadata": {
  "kernelspec": {
   "display_name": "torch_cuda_transformer_env",
   "language": "python",
   "name": "python3"
  },
  "language_info": {
   "codemirror_mode": {
    "name": "ipython",
    "version": 3
   },
   "file_extension": ".py",
   "mimetype": "text/x-python",
   "name": "python",
   "nbconvert_exporter": "python",
   "pygments_lexer": "ipython3",
   "version": "3.10.18"
  }
 },
 "nbformat": 4,
 "nbformat_minor": 5
}
