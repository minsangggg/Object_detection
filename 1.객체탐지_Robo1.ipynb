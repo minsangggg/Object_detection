{
 "cells": [
  {
   "cell_type": "code",
   "execution_count": null,
   "id": "56df1390",
   "metadata": {},
   "outputs": [
    {
     "name": "stdout",
     "output_type": "stream",
     "text": [
      "torch 2.6.0+cu124 cuda 12.4 is_available True\n"
     ]
    }
   ],
   "source": [
    "import torch\n",
    "print(\"torch\", torch.__version__,\n",
    "      \"cuda\", torch.version.cuda,\n",
    "      \"is_available\",\n",
    "      torch.cuda.is_available()) #False면 GPU못쓰고, CPU만 사용가능"
   ]
  },
  {
   "cell_type": "code",
   "execution_count": 2,
   "id": "e47b4ad2",
   "metadata": {},
   "outputs": [
    {
     "data": {
      "text/plain": [
       "'UfRTKfC3WsVyFAf8lyRk'"
      ]
     },
     "execution_count": 2,
     "metadata": {},
     "output_type": "execute_result"
    }
   ],
   "source": [
    "import os\n",
    "from dotenv import load_dotenv\n",
    "loaded=load_dotenv()\n",
    "os.getenv('ROBOFLOW_API_KEY')"
   ]
  },
  {
   "cell_type": "code",
   "execution_count": null,
   "id": "a268d213",
   "metadata": {},
   "outputs": [
    {
     "data": {
      "text/plain": [
       "<inference_sdk.http.client.InferenceHTTPClient at 0x1ecc88d0790>"
      ]
     },
     "execution_count": 3,
     "metadata": {},
     "output_type": "execute_result"
    }
   ],
   "source": [
    "from inference_sdk import InferenceHTTPClient #Roboflow서버에 이미지 보내고, 객체 탐지 결과 받을 수 있음\n",
    "CLIENT=InferenceHTTPClient(\n",
    "    api_url='https://detect.roboflow.com',\n",
    "    api_key=os.getenv('ROBOFLOW_API_KEY')\n",
    ")\n",
    "CLIENT #CLIENT 객체는 이제 Roboflow서버와 연결된 클라이언트임."
   ]
  },
  {
   "cell_type": "code",
   "execution_count": 4,
   "id": "eba33718",
   "metadata": {},
   "outputs": [
    {
     "data": {
      "text/plain": [
       "{'inference_id': '7b0150cf-a2ba-4659-8254-4d63459ca98a',\n",
       " 'time': 0.0362718319997839,\n",
       " 'image': {'width': 275, 'height': 183},\n",
       " 'predictions': [{'x': 239.5,\n",
       "   'y': 64.5,\n",
       "   'width': 61.0,\n",
       "   'height': 95.0,\n",
       "   'confidence': 0.9290184378623962,\n",
       "   'class': 'Paper',\n",
       "   'class_id': 0,\n",
       "   'detection_id': '3d96ff36-67af-440c-8995-1b1a05737b6d'},\n",
       "  {'x': 46.5,\n",
       "   'y': 82.0,\n",
       "   'width': 53.0,\n",
       "   'height': 64.0,\n",
       "   'confidence': 0.9090756773948669,\n",
       "   'class': 'Rock',\n",
       "   'class_id': 1,\n",
       "   'detection_id': 'de2abee6-10a2-4b32-888b-e39a9786afac'}]}"
      ]
     },
     "execution_count": 4,
     "metadata": {},
     "output_type": "execute_result"
    }
   ],
   "source": [
    "result=CLIENT.infer('sample.png', model_id='rock-paper-scissors-sxsw/14')\n",
    "result"
   ]
  },
  {
   "cell_type": "markdown",
   "id": "aa0f4264",
   "metadata": {},
   "source": [
    "## Roboflow API 객체 탐지 결과(result)를 OpenCV로 시각화"
   ]
  },
  {
   "cell_type": "code",
   "execution_count": null,
   "id": "5c58567c",
   "metadata": {},
   "outputs": [
    {
     "name": "stdout",
     "output_type": "stream",
     "text": [
      "239.5 64.5 61.0 95.0 0.9290184378623962 Paper\n",
      "46.5 82.0 53.0 64.0 0.9090756773948669 Rock\n"
     ]
    }
   ],
   "source": [
    "import cv2\n",
    "img = cv2.imread('sample.png')\n",
    "\n",
    "for pred in result['predictions']: # 로보플로 api가 반환한 result JSON에서 predictions 배열 하나씩 꺼내기\n",
    "  x = pred['x']\n",
    "  y = pred['y']\n",
    "  width = pred['width']\n",
    "  height = pred['height']\n",
    "  conf = pred['confidence'] #신뢰도점수(0~1)\n",
    "  obj_class = pred['class'] #탐지된 객체 클래스명(ex:dog,person 등)\n",
    "  \n",
    "  x1, y1 = int(x-width/2), int(y-height/2)  #좌측상단(x1,y1)\n",
    "  x2, y2 = int(x+width/2), int(y+height/2)  #우측하단(x2,y2)\n",
    "  cv2.rectangle(img, (x1,y1), (x2, y2), (0,0,255), 2) #빨간색 사각형, 두께=2\n",
    "  cv2.putText(img, f'{obj_class} {conf:.4f}', (x1,y1), cv2.FONT_HERSHEY_PLAIN, 2, (0,0,255))\n",
    "\n",
    "  print(x,y,width,height,conf,obj_class)\n",
    "  \n",
    "cv2.imshow('image', img)\n",
    "cv2.waitKey()\n",
    "cv2.destroyAllWindows()"
   ]
  },
  {
   "cell_type": "code",
   "execution_count": 6,
   "id": "6c3d4b1e",
   "metadata": {},
   "outputs": [
    {
     "data": {
      "text/plain": [
       "array([[[255, 255, 255],\n",
       "        [255, 255, 255],\n",
       "        [255, 255, 255],\n",
       "        ...,\n",
       "        [255, 255, 255],\n",
       "        [255, 255, 255],\n",
       "        [255, 255, 255]],\n",
       "\n",
       "       [[255, 255, 255],\n",
       "        [255, 255, 255],\n",
       "        [255, 255, 255],\n",
       "        ...,\n",
       "        [255, 255, 255],\n",
       "        [255, 255, 255],\n",
       "        [255, 255, 255]],\n",
       "\n",
       "       [[255, 255, 255],\n",
       "        [255, 255, 255],\n",
       "        [255, 255, 255],\n",
       "        ...,\n",
       "        [255, 255, 255],\n",
       "        [255, 255, 255],\n",
       "        [255, 255, 255]],\n",
       "\n",
       "       ...,\n",
       "\n",
       "       [[251, 254, 255],\n",
       "        [250, 251, 255],\n",
       "        [255, 254, 255],\n",
       "        ...,\n",
       "        [255, 255, 255],\n",
       "        [255, 255, 255],\n",
       "        [255, 255, 255]],\n",
       "\n",
       "       [[251, 254, 255],\n",
       "        [251, 252, 255],\n",
       "        [255, 254, 255],\n",
       "        ...,\n",
       "        [255, 255, 255],\n",
       "        [255, 255, 255],\n",
       "        [255, 255, 255]],\n",
       "\n",
       "       [[251, 254, 255],\n",
       "        [252, 253, 255],\n",
       "        [255, 254, 255],\n",
       "        ...,\n",
       "        [255, 255, 255],\n",
       "        [255, 255, 255],\n",
       "        [255, 255, 255]]], dtype=uint8)"
      ]
     },
     "execution_count": 6,
     "metadata": {},
     "output_type": "execute_result"
    }
   ],
   "source": [
    "import cv2\n",
    "filename='sample.png'\n",
    "cv2.imread(filename)"
   ]
  },
  {
   "cell_type": "code",
   "execution_count": 7,
   "id": "bc644121",
   "metadata": {},
   "outputs": [
    {
     "data": {
      "text/plain": [
       "{'inference_id': '9b9230b5-7c3f-4917-9c63-7d3164fcf9d1',\n",
       " 'time': 0.03487622300008297,\n",
       " 'image': {'width': 416, 'height': 416},\n",
       " 'predictions': []}"
      ]
     },
     "execution_count": 7,
     "metadata": {},
     "output_type": "execute_result"
    }
   ],
   "source": [
    "result = CLIENT.infer('mnist_train/000001.jpg', model_id='numbers-ldmqq/3')\n",
    "result"
   ]
  },
  {
   "cell_type": "markdown",
   "id": "a167fdc6",
   "metadata": {},
   "source": [
    "## 모델 가져오기"
   ]
  },
  {
   "cell_type": "code",
   "execution_count": 8,
   "id": "15aecf9f",
   "metadata": {},
   "outputs": [
    {
     "name": "stdout",
     "output_type": "stream",
     "text": [
      "loading Roboflow workspace...\n",
      "loading Roboflow project...\n"
     ]
    },
    {
     "data": {
      "text/plain": [
       "<roboflow.models.object_detection.ObjectDetectionModel at 0x1ec9b9db0d0>"
      ]
     },
     "execution_count": 8,
     "metadata": {},
     "output_type": "execute_result"
    }
   ],
   "source": [
    "from roboflow import Roboflow\n",
    "import cv2\n",
    "import os\n",
    "\n",
    "rf=Roboflow(api_key=os.getenv('ROBOFLOW_API_KEY'))\n",
    "project=rf.workspace().project('numbers-yt0h2')\n",
    "numbers_model=project.version(2).model\n",
    "numbers_model"
   ]
  }
 ],
 "metadata": {
  "kernelspec": {
   "display_name": "torch_cuda_yolo_env",
   "language": "python",
   "name": "python3"
  },
  "language_info": {
   "codemirror_mode": {
    "name": "ipython",
    "version": 3
   },
   "file_extension": ".py",
   "mimetype": "text/x-python",
   "name": "python",
   "nbconvert_exporter": "python",
   "pygments_lexer": "ipython3",
   "version": "3.10.18"
  }
 },
 "nbformat": 4,
 "nbformat_minor": 5
}
